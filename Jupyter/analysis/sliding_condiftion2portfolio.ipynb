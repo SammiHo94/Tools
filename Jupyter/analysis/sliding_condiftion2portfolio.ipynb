{
 "cells": [
  {
   "cell_type": "code",
   "execution_count": null,
   "metadata": {},
   "outputs": [],
   "source": [
    "import math\n",
    "import os\n",
    "\n",
    "import numpy as np\n",
    "import pandas as pd\n",
    "\n",
    "import matplotlib.pyplot as plt\n",
    "\n",
    "import empyrical as empy\n",
    "from sklearn.metrics import (\n",
    "    precision_score, accuracy_score, confusion_matrix, \n",
    "    mean_squared_error, recall_score, f1_score\n",
    ")\n",
    "\n",
    "import itertools\n",
    "import random\n",
    "random.seed(0)\n",
    "\n",
    "import dataframe_image as dfi\n",
    "from IPython.display import Image\n",
    "\n",
    "import warnings\n",
    "warnings.filterwarnings(\"ignore\")"
   ]
  },
  {
   "cell_type": "code",
   "execution_count": 4,
   "metadata": {},
   "outputs": [],
   "source": [
    "price_data_name = 'data/backtest_etf_algo_corr_fsp_20220829.csv'\n",
    "result_excel_name = './result/2022/MPT_kpi/1.5.1b/digital_twins_KPIs_151b_agg.xlsx'\n",
    "client = 'agg'\n",
    "\n",
    "comm_ratio = 0.0001\n",
    "annual_interest = 0.0158\n",
    "vote_down_buy_ratio_list = [0, 0.1, 0.2, 0.3]\n",
    "\n",
    "start = '2008'\n",
    "end = '2022-07'"
   ]
  },
  {
   "cell_type": "code",
   "execution_count": 5,
   "metadata": {},
   "outputs": [],
   "source": [
    "def display_df(df, export_img=False, **kwargs):\n",
    "    df_style = df.style.background_gradient(**kwargs)\n",
    "    display(df_style)\n",
    "    \n",
    "    if export_img:\n",
    "        try:\n",
    "            dfi.export(df_style,\"tmp.png\",table_conversion='matplotlib')\n",
    "            display(Image(\"tmp.png\"))\n",
    "        except:\n",
    "            pass\n",
    "\n",
    "def show_cum_ret(ret):\n",
    "    fig, ax = plt.subplots(figsize=(24,15))\n",
    "    cm = plt.get_cmap('gist_rainbow')\n",
    "    NUM_COLORS = ret.shape[1]\n",
    "    ax.set_prop_cycle(color=[cm(1.*i/NUM_COLORS) for i in range(NUM_COLORS)])\n",
    "\n",
    "    (1+ret).cumprod().plot(ax=ax)\n",
    "\n",
    "    ax.legend(loc='center left', bbox_to_anchor=(1, 0.5))\n",
    "    ax.set_yscale(\"log\")\n",
    "    plt.show()"
   ]
  },
  {
   "cell_type": "code",
   "execution_count": 6,
   "metadata": {},
   "outputs": [],
   "source": [
    "def correct_return(ret, factor):\n",
    "    ret_ = (1+ret)*factor - 1\n",
    "    return ret_\n",
    "\n",
    "def add_lev_cost_to_ret(ret, lev, annual_interest=annual_interest):\n",
    "    \n",
    "    balance = return_to_price(ret).iloc[1:]\n",
    "    cash = (1-lev)*balance\n",
    "    \n",
    "    \"\"\"\n",
    "    balance = hist['Balance']\n",
    "    balance_ = pd.concat([pd.Series(1e9), balance])\n",
    "    ret = balance_.pct_change().ffill().dropna()\n",
    "    \"\"\"\n",
    "    \n",
    "    '''\n",
    "    monthly_credit = hist['cash'].groupby(pd.Grouper(freq='M')).min()\n",
    "    idx = hist.index.to_series()\n",
    "    idx_month_end = idx.groupby(pd.Grouper(freq='M')).max()\n",
    "    monthly_credit.index = idx_month_end.values\n",
    "    \n",
    "    lev_cost = monthly_credit.apply(lambda x: -x*annual_interest/12 if x<0 else 0)\n",
    "    lev_cost = lev_cost.reindex(balance.index).fillna(0)\n",
    "    '''\n",
    "    # cost calculated daily, billed at month end\n",
    "    daily_credit = cash.apply(lambda x: x if x<0 else 0)\n",
    "    daily_lev_cost = daily_credit.apply(lambda x: -x*annual_interest/252 if x<0 else 0)\n",
    "    \n",
    "    \n",
    "    #display(daily_lev_cost)\n",
    "    \n",
    "    \n",
    "    monthy_lev_cost = daily_lev_cost.groupby(pd.Grouper(freq='M')).sum()\n",
    "    \n",
    "    idx = hist.index.to_series()\n",
    "    idx_month_end = idx.groupby(pd.Grouper(freq='M')).max()\n",
    "    \n",
    "    \n",
    "    #print(monthy_lev_cost)\n",
    "    #print(idx_month_end)\n",
    "    \n",
    "    \n",
    "    \n",
    "    \n",
    "    #monthy_lev_cost.index = idx_month_end.values\n",
    "    monthy_lev_cost.index = idx_month_end.reindex(monthy_lev_cost.index).values\n",
    "    \n",
    "    \n",
    "    \n",
    "    lev_cost = monthy_lev_cost.reindex(balance.index).fillna(0)\n",
    "    \n",
    "    lev_cost_correct_factor = 1 - lev_cost/balance\n",
    "    \n",
    "    ret_lev_cost_correct = correct_return(ret, lev_cost_correct_factor)\n",
    "    \n",
    "    return ret_lev_cost_correct\n"
   ]
  },
  {
   "cell_type": "code",
   "execution_count": 7,
   "metadata": {},
   "outputs": [],
   "source": [
    "def drawdown_from_price(price):\n",
    "    if isinstance(price, pd.Series):\n",
    "        return _drawdown_from_price(price)\n",
    "    elif isinstance(price, pd.DataFrame):\n",
    "        return price.apply(_drawdown_from_price)\n",
    "    else:\n",
    "        raise non_pd_error\n",
    "\n",
    "def _drawdown_from_price(price):\n",
    "    shift_max = price.copy()\n",
    "    _max = price.iloc[0]\n",
    "    for i, j in price.items():\n",
    "        #print('i', i)\n",
    "        #print('j', j)\n",
    "        _max = max(_max, j)\n",
    "        shift_max[i] = _max\n",
    "    return price / shift_max - 1\n",
    "\n",
    "def return_to_price(ret, ini=100):\n",
    "    price_0 = ret.dropna().iloc[:1] * 0 + ini\n",
    "    price_0.index = [0]\n",
    "    price = (1+ret).cumprod() * ini\n",
    "    return pd.concat([price_0, price])\n",
    "\n",
    "def drawdown_from_return(ret, ini=100):\n",
    "    price = return_to_price(ret, ini)\n",
    "    return drawdown_from_price(price).iloc[1:]\n",
    "\n",
    "def avg_drawdown(ret):\n",
    "    dd = drawdown_from_return(ret)\n",
    "    return dd.mean()\n",
    "\n",
    "def empy_metric(ret):\n",
    "    if isinstance(ret, pd.DataFrame):\n",
    "        return ret.apply(empy_metric).T\n",
    "    total_return = lambda x: (1+x).prod()-1\n",
    "    met_func = [\n",
    "        total_return, \n",
    "        lambda x: empy.annual_return(x), \n",
    "        lambda x: empy.sharpe_ratio(x), \n",
    "        lambda x: empy.annual_volatility(x), \n",
    "        lambda x: empy.max_drawdown(x), \n",
    "        avg_drawdown]\n",
    "    \n",
    "    met_func_names = ['total_return', 'annual_return', 'sharpe_ratio', 'annual_volatility', \n",
    "                      'max_drawdown', 'avg_drawdown',]\n",
    "    \n",
    "    se = pd.Series([f(ret) for f in met_func], met_func_names)\n",
    "    \n",
    "    se['return/maxdd'] = -se.annual_return/se.max_drawdown\n",
    "    se['return/avgdd'] = -se.annual_return/se.avg_drawdown\n",
    "    \n",
    "    #buy01 = ret.apply(lambda x: 0 if x==0 else 1)\n",
    "    #se['buy_ratio'] = buy01.mean()\n",
    "    #se['flip_ratio'] = (buy01-buy01.shift()).abs().mean()\n",
    "    \n",
    "    return se\n",
    "\n",
    "#ewma = lambda x, y: x.ewm(span=y).mean()\n",
    "\n",
    "\n",
    "def cal_metric(y_true, y_pred):\n",
    "\n",
    "    if isinstance(y_pred, pd.DataFrame):\n",
    "        prec_ser = pd.Series(index=y_pred.columns, name='precision')\n",
    "        acccc_ser = pd.Series(index=y_pred.columns, name='accuracy')\n",
    "        recall_ser = pd.Series(index=y_pred.columns, name='recall')\n",
    "        recall0_ser = pd.Series(index=y_pred.columns, name='recall0')\n",
    "        f1_score_ser = pd.Series(index=y_pred.columns, name='f1_score')\n",
    "        f0_score_ser = pd.Series(index=y_pred.columns, name='f0_score')\n",
    "        for col in y_pred.columns:\n",
    "            # print(\"   *********************************  \", col)\n",
    "            if isinstance(y_true, pd.DataFrame):\n",
    "                tmp_y_true = y_true[col]\n",
    "            else:\n",
    "                tmp_y_true = y_true.copy()\n",
    "            prec_ser[col], acccc_ser[col], recall_ser[col], recall0_ser[col], f1_score_ser[col], f0_score_ser[col] = cal_metric(\n",
    "                tmp_y_true, y_pred[col])\n",
    "        return prec_ser, acccc_ser, recall_ser, recall0_ser, f1_score_ser, f0_score_ser\n",
    "\n",
    "    y_true = y_true.reindex(y_pred.index)\n",
    "    tmp = pd.concat([y_true, y_pred], axis=1).dropna()\n",
    "    y_true = tmp.iloc[:, 0]\n",
    "    y_pred = tmp.iloc[:, -1]\n",
    "    # print(\"y_pred\\n\", y_pred)\n",
    "    # print(\"y_true\\n\", y_true)\n",
    "    # pd.concat([y_proba, y_pred, y_pctch, y_true, ydelta_true], axis=1).to_csv(\"./tmp/{}.csv\".format(y_pctch.name))\n",
    "\n",
    "    try:\n",
    "        prec = precision_score(y_true=y_true, y_pred=y_pred)\n",
    "        acccc = accuracy_score(y_true=y_true, y_pred=y_pred)\n",
    "    except Exception as e:\n",
    "        print(e)\n",
    "        prec = 0\n",
    "        acccc = 0\n",
    "\n",
    "    try:\n",
    "        recall = recall_score(y_true=y_true, y_pred=y_pred)\n",
    "        recall0 = recall_score(y_true=y_true, y_pred=y_pred, pos_label=0)\n",
    "    except Exception as e:\n",
    "        print(e)\n",
    "        recall = 0\n",
    "        recall0 = 0\n",
    "\n",
    "    try:\n",
    "        f1score = f1_score(y_true=y_true, y_pred=y_pred)\n",
    "        f0score = f1_score(y_true=y_true, y_pred=y_pred, pos_label=0)\n",
    "    except Exception as e:\n",
    "        print(e)\n",
    "        f1score = 0\n",
    "        f0score = 0\n",
    "    # print(\"mse, mse_proba, msefullscore, msefullscore_ret, prec, acccc, recall, recall0\")\n",
    "    # print(mse, mse_proba, msefullscore, msefullscore_ret, prec, acccc, recall, recall0)\n",
    "    return prec, acccc, recall, recall0, f1score, f0score"
   ]
  },
  {
   "cell_type": "code",
   "execution_count": 8,
   "metadata": {},
   "outputs": [
    {
     "data": {
      "text/plain": [
       "2008-01-02    0.021213\n",
       "2008-01-03    0.004646\n",
       "2008-01-04   -0.008659\n",
       "2008-01-07   -0.003821\n",
       "2008-01-08    0.002096\n",
       "                ...   \n",
       "2022-07-25   -0.000582\n",
       "2022-07-26   -0.002362\n",
       "2022-07-27    0.009400\n",
       "2022-07-28    0.009599\n",
       "2022-07-29    0.003917\n",
       "Length: 3670, dtype: float64"
      ]
     },
     "execution_count": 8,
     "metadata": {},
     "output_type": "execute_result"
    }
   ],
   "source": [
    "hist = pd.read_excel(result_excel_name, index_col=0, sheet_name='History')\n",
    "hist.index = pd.to_datetime(hist.index)\n",
    "balance = hist['Balance']\n",
    "balance_ = pd.concat([pd.Series(1e9),balance])\n",
    "ret = balance_.pct_change().ffill().dropna()\n",
    "ret.index = pd.to_datetime(ret.index)\n",
    "# ret = ret[start:end]\n",
    "ret_comm_correct = ret[start:end]\n",
    "ret_comm_correct"
   ]
  },
  {
   "cell_type": "code",
   "execution_count": 9,
   "metadata": {},
   "outputs": [
    {
     "data": {
      "text/plain": [
       "2008-01-02    0.021031\n",
       "2008-01-03    0.004646\n",
       "2008-01-04   -0.008659\n",
       "2008-01-07   -0.003824\n",
       "2008-01-08    0.002096\n",
       "                ...   \n",
       "2022-07-25   -0.000582\n",
       "2022-07-26   -0.002362\n",
       "2022-07-27    0.009400\n",
       "2022-07-28    0.009597\n",
       "2022-07-29    0.003912\n",
       "Length: 3670, dtype: float64"
      ]
     },
     "execution_count": 9,
     "metadata": {},
     "output_type": "execute_result"
    }
   ],
   "source": [
    "close_ratio = hist.iloc[:, 9:]\n",
    "close_ratio = close_ratio.sort_index(axis=1)\n",
    "open_not_traded_ratio = close_ratio.shift().fillna(0)\n",
    "price = pd.read_csv(price_data_name, index_col=0)\n",
    "price = price.pivot_table('adj_close', 'date', 'code')\n",
    "price.index = pd.to_datetime(price.index)\n",
    "price_change = price.pct_change().fillna(0)\n",
    "price_change = price_change.reindex(close_ratio.index)\n",
    "open_traded_ratio = close_ratio/(1+price_change)\n",
    "trade_diff = (open_traded_ratio - open_not_traded_ratio).applymap(abs)\n",
    "sum_abs_trade_diff = trade_diff.applymap(abs).sum(axis=1)\n",
    "\n",
    "comm = sum_abs_trade_diff*comm_ratio\n",
    "comm_correct_factor = 1 - comm/balance\n",
    "\n",
    "ret_comm_correct = correct_return(ret, comm_correct_factor)\n",
    "ret_comm_correct = ret_comm_correct[start:end]\n",
    "ret_comm_correct"
   ]
  },
  {
   "cell_type": "code",
   "execution_count": null,
   "metadata": {},
   "outputs": [],
   "source": []
  },
  {
   "cell_type": "code",
   "execution_count": null,
   "metadata": {},
   "outputs": [],
   "source": [
    "preds_folder = 'result/2022/202205v0_till202208/pp10/'\n",
    "\n",
    "vote_csvs = []\n",
    "for f in os.listdir(preds_folder):\n",
    "    if os.path.isdir(os.path.join(preds_folder, f)):\n",
    "        for ff in os.listdir(os.path.join(preds_folder, f)):\n",
    "            if ff.startswith('3voteContNdays_'):\n",
    "                vote_csvs.append(os.path.join(preds_folder, f, ff))\n",
    "\n",
    "vote_csvs"
   ]
  },
  {
   "cell_type": "code",
   "execution_count": 11,
   "metadata": {},
   "outputs": [],
   "source": [
    "vote_csvs = [\n",
    "    './result/2022/cashON_signal/corr_threshold_v1.csv',\n",
    "    # './result/2022/cashON_signal/corr_threshold_v1-combine2condition.csv',\n",
    "]"
   ]
  },
  {
   "cell_type": "code",
   "execution_count": 13,
   "metadata": {},
   "outputs": [],
   "source": [
    "vote_file = './result/2022/cashON_signal/corr_threshold_v1.csv'\n",
    "vote_df = pd.read_csv(vote_file, index_col=0)\n",
    "vote_df.index = pd.to_datetime(vote_df.index)\n",
    "vote_df = vote_df.shift()\n",
    "vote_freq_cont_df = vote_df[start:end].reindex(ret.index).ffill()"
   ]
  },
  {
   "cell_type": "code",
   "execution_count": 14,
   "metadata": {},
   "outputs": [],
   "source": [
    "def multi_condition(df, a, b, operation):\n",
    "    if operation == '&':\n",
    "        ser = df[a] & df[b]\n",
    "        ser.name = \"({})&({})\".format(a, b)\n",
    "        \n",
    "    elif operation == '|':\n",
    "        ser = df[a] | df[b]\n",
    "        ser.name = \"({})|({})\".format(a, b)\n",
    "    else:\n",
    "        ser = pd.Series()\n",
    "    return ser"
   ]
  },
  {
   "cell_type": "code",
   "execution_count": 16,
   "metadata": {},
   "outputs": [
    {
     "data": {
      "text/html": [
       "<div>\n",
       "<style scoped>\n",
       "    .dataframe tbody tr th:only-of-type {\n",
       "        vertical-align: middle;\n",
       "    }\n",
       "\n",
       "    .dataframe tbody tr th {\n",
       "        vertical-align: top;\n",
       "    }\n",
       "\n",
       "    .dataframe thead th {\n",
       "        text-align: right;\n",
       "    }\n",
       "</style>\n",
       "<table border=\"1\" class=\"dataframe\">\n",
       "  <thead>\n",
       "    <tr style=\"text-align: right;\">\n",
       "      <th></th>\n",
       "      <th>0</th>\n",
       "      <th>0.1</th>\n",
       "    </tr>\n",
       "  </thead>\n",
       "  <tbody>\n",
       "    <tr>\n",
       "      <th>(corr_avg__lb15__out-of0.1&amp;0.5)&amp;(corr_avg_pct__lb20__out-of-0.1&amp;0.2)</th>\n",
       "      <td>(corr_avg__lb15__out-of0.1&amp;0.5)&amp;(corr_avg_pct_...</td>\n",
       "      <td>(corr_avg__lb15__out-of0.1&amp;0.5)&amp;(corr_avg_pct_...</td>\n",
       "    </tr>\n",
       "    <tr>\n",
       "      <th>(corr_avg__lb15__&gt;0.5)&amp;(corr_avg_pct__lb20__out-of-0.1&amp;0.2)</th>\n",
       "      <td>(corr_avg__lb15__&gt;0.5)&amp;(corr_avg_pct__lb20__ou...</td>\n",
       "      <td>(corr_avg__lb15__&gt;0.5)&amp;(corr_avg_pct__lb20__ou...</td>\n",
       "    </tr>\n",
       "    <tr>\n",
       "      <th>(corr_avg__lb15__&gt;0.5)&amp;(corr_avg__lb50__out-of0.25&amp;0.5)</th>\n",
       "      <td>(corr_avg__lb15__&gt;0.5)&amp;(corr_avg__lb50__out-of...</td>\n",
       "      <td>(corr_avg__lb15__&gt;0.5)&amp;(corr_avg__lb50__out-of...</td>\n",
       "    </tr>\n",
       "    <tr>\n",
       "      <th>(corr_avg__lb15__out-of0.1&amp;0.5)&amp;(corr_avg__lb50__out-of0.25&amp;0.5)</th>\n",
       "      <td>(corr_avg__lb15__out-of0.1&amp;0.5)&amp;(corr_avg__lb5...</td>\n",
       "      <td>(corr_avg__lb15__out-of0.1&amp;0.5)&amp;(corr_avg__lb5...</td>\n",
       "    </tr>\n",
       "    <tr>\n",
       "      <th>(corr_avg__lb50__out-of0.25&amp;0.5)&amp;(corr_std__lb10__&lt;0.3)</th>\n",
       "      <td>(corr_avg__lb50__out-of0.25&amp;0.5)&amp;(corr_std__lb...</td>\n",
       "      <td>(corr_avg__lb50__out-of0.25&amp;0.5)&amp;(corr_std__lb...</td>\n",
       "    </tr>\n",
       "    <tr>\n",
       "      <th>...</th>\n",
       "      <td>...</td>\n",
       "      <td>...</td>\n",
       "    </tr>\n",
       "    <tr>\n",
       "      <th>(corr_avg__lb10__&lt;0.1)|(corr_avg_pct__lb10__out-of-0.25&amp;0.75)</th>\n",
       "      <td>(corr_avg__lb10__&lt;0.1)|(corr_avg_pct__lb10__ou...</td>\n",
       "      <td>NaN</td>\n",
       "    </tr>\n",
       "    <tr>\n",
       "      <th>(corr_std__lb50__out-of0.3&amp;0.6)|(corr_std_abs_pct__lb15__&gt;0.1)</th>\n",
       "      <td>(corr_std__lb50__out-of0.3&amp;0.6)|(corr_std_abs_...</td>\n",
       "      <td>NaN</td>\n",
       "    </tr>\n",
       "    <tr>\n",
       "      <th>(corr_std_abs__lb20__&gt;0.35)&amp;(corr_std_pct__lb15__&lt;-0.2)</th>\n",
       "      <td>(corr_std_abs__lb20__&gt;0.35)&amp;(corr_std_pct__lb1...</td>\n",
       "      <td>NaN</td>\n",
       "    </tr>\n",
       "    <tr>\n",
       "      <th>(corr_avg__lb50__out-of0.25&amp;0.45)|(corr_avg_pct__lb20__out-of-0.2&amp;0.4)</th>\n",
       "      <td>(corr_avg__lb50__out-of0.25&amp;0.45)|(corr_avg_pc...</td>\n",
       "      <td>NaN</td>\n",
       "    </tr>\n",
       "    <tr>\n",
       "      <th>no_3vote</th>\n",
       "      <td>no_3vote</td>\n",
       "      <td>NaN</td>\n",
       "    </tr>\n",
       "  </tbody>\n",
       "</table>\n",
       "<p>21684 rows × 2 columns</p>\n",
       "</div>"
      ],
      "text/plain": [
       "                                                                                                    0  \\\n",
       "(corr_avg__lb15__out-of0.1&0.5)&(corr_avg_pct__...  (corr_avg__lb15__out-of0.1&0.5)&(corr_avg_pct_...   \n",
       "(corr_avg__lb15__>0.5)&(corr_avg_pct__lb20__out...  (corr_avg__lb15__>0.5)&(corr_avg_pct__lb20__ou...   \n",
       "(corr_avg__lb15__>0.5)&(corr_avg__lb50__out-of0...  (corr_avg__lb15__>0.5)&(corr_avg__lb50__out-of...   \n",
       "(corr_avg__lb15__out-of0.1&0.5)&(corr_avg__lb50...  (corr_avg__lb15__out-of0.1&0.5)&(corr_avg__lb5...   \n",
       "(corr_avg__lb50__out-of0.25&0.5)&(corr_std__lb1...  (corr_avg__lb50__out-of0.25&0.5)&(corr_std__lb...   \n",
       "...                                                                                               ...   \n",
       "(corr_avg__lb10__<0.1)|(corr_avg_pct__lb10__out...  (corr_avg__lb10__<0.1)|(corr_avg_pct__lb10__ou...   \n",
       "(corr_std__lb50__out-of0.3&0.6)|(corr_std_abs_p...  (corr_std__lb50__out-of0.3&0.6)|(corr_std_abs_...   \n",
       "(corr_std_abs__lb20__>0.35)&(corr_std_pct__lb15...  (corr_std_abs__lb20__>0.35)&(corr_std_pct__lb1...   \n",
       "(corr_avg__lb50__out-of0.25&0.45)|(corr_avg_pct...  (corr_avg__lb50__out-of0.25&0.45)|(corr_avg_pc...   \n",
       "no_3vote                                                                                     no_3vote   \n",
       "\n",
       "                                                                                                  0.1  \n",
       "(corr_avg__lb15__out-of0.1&0.5)&(corr_avg_pct__...  (corr_avg__lb15__out-of0.1&0.5)&(corr_avg_pct_...  \n",
       "(corr_avg__lb15__>0.5)&(corr_avg_pct__lb20__out...  (corr_avg__lb15__>0.5)&(corr_avg_pct__lb20__ou...  \n",
       "(corr_avg__lb15__>0.5)&(corr_avg__lb50__out-of0...  (corr_avg__lb15__>0.5)&(corr_avg__lb50__out-of...  \n",
       "(corr_avg__lb15__out-of0.1&0.5)&(corr_avg__lb50...  (corr_avg__lb15__out-of0.1&0.5)&(corr_avg__lb5...  \n",
       "(corr_avg__lb50__out-of0.25&0.5)&(corr_std__lb1...  (corr_avg__lb50__out-of0.25&0.5)&(corr_std__lb...  \n",
       "...                                                                                               ...  \n",
       "(corr_avg__lb10__<0.1)|(corr_avg_pct__lb10__out...                                                NaN  \n",
       "(corr_std__lb50__out-of0.3&0.6)|(corr_std_abs_p...                                                NaN  \n",
       "(corr_std_abs__lb20__>0.35)&(corr_std_pct__lb15...                                                NaN  \n",
       "(corr_avg__lb50__out-of0.25&0.45)|(corr_avg_pct...                                                NaN  \n",
       "no_3vote                                                                                          NaN  \n",
       "\n",
       "[21684 rows x 2 columns]"
      ]
     },
     "execution_count": 16,
     "metadata": {},
     "output_type": "execute_result"
    }
   ],
   "source": [
    "best_idx = './result/2022/cashON_signal/best_case.csv'\n",
    "pairs = list(pd.read_csv(best_idx, index_col=0).index)\n",
    "# pairs = list(itertools.combinations(vote_freq_cont_df.columns, 2))\n",
    "pairs"
   ]
  },
  {
   "cell_type": "code",
   "execution_count": 12,
   "metadata": {},
   "outputs": [
    {
     "ename": "MemoryError",
     "evalue": "Unable to allocate 1.24 GiB for an array with shape (45487, 3670) and data type float64",
     "output_type": "error",
     "traceback": [
      "\u001b[1;31m---------------------------------------------------------------------------\u001b[0m",
      "\u001b[1;31mMemoryError\u001b[0m                               Traceback (most recent call last)",
      "\u001b[1;32mc:\\Users\\Sammi\\Desktop\\Jupyter\\ML_prediction_analysis\\sliding_condiftion2portfolio.ipynb Cell 11\u001b[0m in \u001b[0;36m<cell line: 16>\u001b[1;34m()\u001b[0m\n\u001b[0;32m     <a href='vscode-notebook-cell:/c%3A/Users/Sammi/Desktop/Jupyter/ML_prediction_analysis/sliding_condiftion2portfolio.ipynb#X13sZmlsZQ%3D%3D?line=13'>14</a>\u001b[0m     \u001b[39m# vote_down_buy_ratio_df.to_csv(vote_down_buy_ratio_csv)\u001b[39;00m\n\u001b[0;32m     <a href='vscode-notebook-cell:/c%3A/Users/Sammi/Desktop/Jupyter/ML_prediction_analysis/sliding_condiftion2portfolio.ipynb#X13sZmlsZQ%3D%3D?line=14'>15</a>\u001b[0m     all_vote_down_buy_ratio_list\u001b[39m.\u001b[39mappend(vote_down_buy_ratio_df)\n\u001b[1;32m---> <a href='vscode-notebook-cell:/c%3A/Users/Sammi/Desktop/Jupyter/ML_prediction_analysis/sliding_condiftion2portfolio.ipynb#X13sZmlsZQ%3D%3D?line=15'>16</a>\u001b[0m all_vote_down_buy_ratio_df \u001b[39m=\u001b[39m pd\u001b[39m.\u001b[39;49mconcat(all_vote_down_buy_ratio_list, \u001b[39m1\u001b[39;49m)\n\u001b[0;32m     <a href='vscode-notebook-cell:/c%3A/Users/Sammi/Desktop/Jupyter/ML_prediction_analysis/sliding_condiftion2portfolio.ipynb#X13sZmlsZQ%3D%3D?line=16'>17</a>\u001b[0m all_vote_down_buy_ratio_df\n",
      "File \u001b[1;32mc:\\Users\\Sammi\\AppData\\Local\\Programs\\Python\\Python310\\lib\\site-packages\\pandas\\util\\_decorators.py:311\u001b[0m, in \u001b[0;36mdeprecate_nonkeyword_arguments.<locals>.decorate.<locals>.wrapper\u001b[1;34m(*args, **kwargs)\u001b[0m\n\u001b[0;32m    305\u001b[0m \u001b[39mif\u001b[39;00m \u001b[39mlen\u001b[39m(args) \u001b[39m>\u001b[39m num_allow_args:\n\u001b[0;32m    306\u001b[0m     warnings\u001b[39m.\u001b[39mwarn(\n\u001b[0;32m    307\u001b[0m         msg\u001b[39m.\u001b[39mformat(arguments\u001b[39m=\u001b[39marguments),\n\u001b[0;32m    308\u001b[0m         \u001b[39mFutureWarning\u001b[39;00m,\n\u001b[0;32m    309\u001b[0m         stacklevel\u001b[39m=\u001b[39mstacklevel,\n\u001b[0;32m    310\u001b[0m     )\n\u001b[1;32m--> 311\u001b[0m \u001b[39mreturn\u001b[39;00m func(\u001b[39m*\u001b[39margs, \u001b[39m*\u001b[39m\u001b[39m*\u001b[39mkwargs)\n",
      "File \u001b[1;32mc:\\Users\\Sammi\\AppData\\Local\\Programs\\Python\\Python310\\lib\\site-packages\\pandas\\core\\reshape\\concat.py:360\u001b[0m, in \u001b[0;36mconcat\u001b[1;34m(objs, axis, join, ignore_index, keys, levels, names, verify_integrity, sort, copy)\u001b[0m\n\u001b[0;32m    156\u001b[0m \u001b[39m\"\"\"\u001b[39;00m\n\u001b[0;32m    157\u001b[0m \u001b[39mConcatenate pandas objects along a particular axis with optional set logic\u001b[39;00m\n\u001b[0;32m    158\u001b[0m \u001b[39malong the other axes.\u001b[39;00m\n\u001b[1;32m   (...)\u001b[0m\n\u001b[0;32m    345\u001b[0m \u001b[39mValueError: Indexes have overlapping values: ['a']\u001b[39;00m\n\u001b[0;32m    346\u001b[0m \u001b[39m\"\"\"\u001b[39;00m\n\u001b[0;32m    347\u001b[0m op \u001b[39m=\u001b[39m _Concatenator(\n\u001b[0;32m    348\u001b[0m     objs,\n\u001b[0;32m    349\u001b[0m     axis\u001b[39m=\u001b[39maxis,\n\u001b[1;32m   (...)\u001b[0m\n\u001b[0;32m    357\u001b[0m     sort\u001b[39m=\u001b[39msort,\n\u001b[0;32m    358\u001b[0m )\n\u001b[1;32m--> 360\u001b[0m \u001b[39mreturn\u001b[39;00m op\u001b[39m.\u001b[39;49mget_result()\n",
      "File \u001b[1;32mc:\\Users\\Sammi\\AppData\\Local\\Programs\\Python\\Python310\\lib\\site-packages\\pandas\\core\\reshape\\concat.py:595\u001b[0m, in \u001b[0;36m_Concatenator.get_result\u001b[1;34m(self)\u001b[0m\n\u001b[0;32m    591\u001b[0m             indexers[ax] \u001b[39m=\u001b[39m obj_labels\u001b[39m.\u001b[39mget_indexer(new_labels)\n\u001b[0;32m    593\u001b[0m     mgrs_indexers\u001b[39m.\u001b[39mappend((obj\u001b[39m.\u001b[39m_mgr, indexers))\n\u001b[1;32m--> 595\u001b[0m new_data \u001b[39m=\u001b[39m concatenate_managers(\n\u001b[0;32m    596\u001b[0m     mgrs_indexers, \u001b[39mself\u001b[39;49m\u001b[39m.\u001b[39;49mnew_axes, concat_axis\u001b[39m=\u001b[39;49m\u001b[39mself\u001b[39;49m\u001b[39m.\u001b[39;49mbm_axis, copy\u001b[39m=\u001b[39;49m\u001b[39mself\u001b[39;49m\u001b[39m.\u001b[39;49mcopy\n\u001b[0;32m    597\u001b[0m )\n\u001b[0;32m    598\u001b[0m \u001b[39mif\u001b[39;00m \u001b[39mnot\u001b[39;00m \u001b[39mself\u001b[39m\u001b[39m.\u001b[39mcopy:\n\u001b[0;32m    599\u001b[0m     new_data\u001b[39m.\u001b[39m_consolidate_inplace()\n",
      "File \u001b[1;32mc:\\Users\\Sammi\\AppData\\Local\\Programs\\Python\\Python310\\lib\\site-packages\\pandas\\core\\internals\\concat.py:202\u001b[0m, in \u001b[0;36mconcatenate_managers\u001b[1;34m(mgrs_indexers, axes, concat_axis, copy)\u001b[0m\n\u001b[0;32m    195\u001b[0m \u001b[39m# Assertions disabled for performance\u001b[39;00m\n\u001b[0;32m    196\u001b[0m \u001b[39m# for tup in mgrs_indexers:\u001b[39;00m\n\u001b[0;32m    197\u001b[0m \u001b[39m#    # caller is responsible for ensuring this\u001b[39;00m\n\u001b[0;32m    198\u001b[0m \u001b[39m#    indexers = tup[1]\u001b[39;00m\n\u001b[0;32m    199\u001b[0m \u001b[39m#    assert concat_axis not in indexers\u001b[39;00m\n\u001b[0;32m    201\u001b[0m \u001b[39mif\u001b[39;00m concat_axis \u001b[39m==\u001b[39m \u001b[39m0\u001b[39m:\n\u001b[1;32m--> 202\u001b[0m     \u001b[39mreturn\u001b[39;00m _concat_managers_axis0(mgrs_indexers, axes, copy)\n\u001b[0;32m    204\u001b[0m mgrs_indexers \u001b[39m=\u001b[39m _maybe_reindex_columns_na_proxy(axes, mgrs_indexers)\n\u001b[0;32m    206\u001b[0m \u001b[39m# Assertion disabled for performance\u001b[39;00m\n\u001b[0;32m    207\u001b[0m \u001b[39m# assert all(not x[1] for x in mgrs_indexers)\u001b[39;00m\n",
      "File \u001b[1;32mc:\\Users\\Sammi\\AppData\\Local\\Programs\\Python\\Python310\\lib\\site-packages\\pandas\\core\\internals\\concat.py:278\u001b[0m, in \u001b[0;36m_concat_managers_axis0\u001b[1;34m(mgrs_indexers, axes, copy)\u001b[0m\n\u001b[0;32m    276\u001b[0m     nb \u001b[39m=\u001b[39m blk\u001b[39m.\u001b[39mcopy(deep\u001b[39m=\u001b[39m\u001b[39mFalse\u001b[39;00m)\n\u001b[0;32m    277\u001b[0m \u001b[39melif\u001b[39;00m copy:\n\u001b[1;32m--> 278\u001b[0m     nb \u001b[39m=\u001b[39m blk\u001b[39m.\u001b[39;49mcopy()\n\u001b[0;32m    279\u001b[0m \u001b[39melse\u001b[39;00m:\n\u001b[0;32m    280\u001b[0m     \u001b[39m# by slicing instead of copy(deep=False), we get a new array\u001b[39;00m\n\u001b[0;32m    281\u001b[0m     \u001b[39m#  object, see test_concat_copy\u001b[39;00m\n\u001b[0;32m    282\u001b[0m     nb \u001b[39m=\u001b[39m blk\u001b[39m.\u001b[39mgetitem_block(\u001b[39mslice\u001b[39m(\u001b[39mNone\u001b[39;00m))\n",
      "File \u001b[1;32mc:\\Users\\Sammi\\AppData\\Local\\Programs\\Python\\Python310\\lib\\site-packages\\pandas\\core\\internals\\blocks.py:643\u001b[0m, in \u001b[0;36mBlock.copy\u001b[1;34m(self, deep)\u001b[0m\n\u001b[0;32m    641\u001b[0m values \u001b[39m=\u001b[39m \u001b[39mself\u001b[39m\u001b[39m.\u001b[39mvalues\n\u001b[0;32m    642\u001b[0m \u001b[39mif\u001b[39;00m deep:\n\u001b[1;32m--> 643\u001b[0m     values \u001b[39m=\u001b[39m values\u001b[39m.\u001b[39;49mcopy()\n\u001b[0;32m    644\u001b[0m \u001b[39mreturn\u001b[39;00m \u001b[39mtype\u001b[39m(\u001b[39mself\u001b[39m)(values, placement\u001b[39m=\u001b[39m\u001b[39mself\u001b[39m\u001b[39m.\u001b[39m_mgr_locs, ndim\u001b[39m=\u001b[39m\u001b[39mself\u001b[39m\u001b[39m.\u001b[39mndim)\n",
      "\u001b[1;31mMemoryError\u001b[0m: Unable to allocate 1.24 GiB for an array with shape (45487, 3670) and data type float64"
     ]
    }
   ],
   "source": [
    "all_vote_down_buy_ratio_list = []\n",
    "for vote_file in vote_csvs:\n",
    "    vote_df = pd.read_csv(vote_file, index_col=0)\n",
    "    vote_df.index = pd.to_datetime(vote_df.index)\n",
    "    vote_df = vote_df.shift()\n",
    "    vote_freq_cont_df = vote_df[start:end].reindex(ret.index).ffill()\n",
    "\n",
    "    vote_down_buy_ratio_df_list = []\n",
    "    for vote_down_buy_ratio in vote_down_buy_ratio_list:\n",
    "        v = vote_freq_cont_df.applymap(lambda x: vote_down_buy_ratio if x<0.5 else 1)\n",
    "        v.columns = v.columns.map(lambda x: x+'___vote_down_buy_{}'.format(vote_down_buy_ratio))\n",
    "        vote_down_buy_ratio_df_list.append(v)\n",
    "    vote_down_buy_ratio_df = pd.concat(vote_down_buy_ratio_df_list, 1)\n",
    "    # vote_down_buy_ratio_df.to_csv(vote_down_buy_ratio_csv)\n",
    "    all_vote_down_buy_ratio_list.append(vote_down_buy_ratio_df)\n",
    "all_vote_down_buy_ratio_df = pd.concat(all_vote_down_buy_ratio_list, 1)\n",
    "all_vote_down_buy_ratio_df"
   ]
  },
  {
   "cell_type": "code",
   "execution_count": null,
   "metadata": {},
   "outputs": [],
   "source": [
    "vote_down_buy_ratio_csv = './result/2022/cashON_signal/vote_down_buy_ratio_corr_threshold_v1-sliding.csv'"
   ]
  },
  {
   "cell_type": "code",
   "execution_count": null,
   "metadata": {},
   "outputs": [],
   "source": [
    "all_vote_down_buy_ratio_df = pd.read_csv(vote_down_buy_ratio_csv, index_col=0, usecols=list(range(0, 45493)))\n",
    "all_vote_down_buy_ratio_df.index = pd.to_datetime(all_vote_down_buy_ratio_df.index)\n",
    "all_vote_down_buy_ratio_df = all_vote_down_buy_ratio_df.shift()\n",
    "all_vote_down_buy_ratio_df = all_vote_down_buy_ratio_df.reindex(ret_comm_correct.index)\n",
    "display(all_vote_down_buy_ratio_df.shape)"
   ]
  },
  {
   "cell_type": "code",
   "execution_count": null,
   "metadata": {},
   "outputs": [],
   "source": []
  },
  {
   "cell_type": "code",
   "execution_count": null,
   "metadata": {},
   "outputs": [],
   "source": [
    "# filter all 1 case\n",
    "sum_vote_down_buy_ratio_df = all_vote_down_buy_ratio_df.sum()[(all_vote_down_buy_ratio_df.sum()/all_vote_down_buy_ratio_df.count()!=1)]\n",
    "all_vote_down_buy_ratio_df = all_vote_down_buy_ratio_df[sum_vote_down_buy_ratio_df.index]\n",
    "display(all_vote_down_buy_ratio_df.shape)"
   ]
  },
  {
   "cell_type": "code",
   "execution_count": null,
   "metadata": {},
   "outputs": [],
   "source": [
    "no_vote = (all_vote_down_buy_ratio_df.iloc[:,0]*0+1).rename('no_3vote')\n",
    "vote_all_kinds = pd.concat([no_vote, all_vote_down_buy_ratio_df], axis=1)\n",
    "vote_all_kinds"
   ]
  },
  {
   "cell_type": "code",
   "execution_count": null,
   "metadata": {},
   "outputs": [],
   "source": [
    "vote_shift = vote_all_kinds.shift()\n",
    "vote_shift.iloc[0] = vote_all_kinds.iloc[0]\n",
    "flip = (vote_all_kinds - vote_shift).abs()\n",
    "flip.sum()"
   ]
  },
  {
   "cell_type": "code",
   "execution_count": null,
   "metadata": {},
   "outputs": [],
   "source": [
    "vote_all_kinds_return = vote_all_kinds.apply(lambda x: x*ret_comm_correct)\n",
    "vote_all_kinds_return.head()"
   ]
  },
  {
   "cell_type": "code",
   "execution_count": null,
   "metadata": {},
   "outputs": [],
   "source": [
    "lev = (hist['asset'] / balance)[start:end]\n",
    "lev.mean()"
   ]
  },
  {
   "cell_type": "code",
   "execution_count": null,
   "metadata": {},
   "outputs": [],
   "source": [
    "vote_comm_correct_factor = 1 - flip.apply(lambda x: x*lev)*comm_ratio\n",
    "vote_comm_correct_factor.prod()"
   ]
  },
  {
   "cell_type": "code",
   "execution_count": null,
   "metadata": {},
   "outputs": [],
   "source": [
    "vote_all_kinds_return_correct_comm = correct_return(vote_all_kinds_return, vote_comm_correct_factor)\n",
    "vote_all_kinds_return_correct_comm"
   ]
  },
  {
   "cell_type": "code",
   "execution_count": null,
   "metadata": {},
   "outputs": [],
   "source": [
    "lev_all = vote_all_kinds.apply(lambda x: x*lev)\n",
    "lev_all"
   ]
  },
  {
   "cell_type": "code",
   "execution_count": null,
   "metadata": {},
   "outputs": [],
   "source": [
    "vote_all_kinds_return_correct_comm_levc = pd.concat([\n",
    "    add_lev_cost_to_ret(vote_all_kinds_return_correct_comm[x], lev_all[x], annual_interest) for x in vote_all_kinds_return_correct_comm.columns],1)\n",
    "vote_all_kinds_return_correct_comm_levc"
   ]
  },
  {
   "cell_type": "code",
   "execution_count": null,
   "metadata": {},
   "outputs": [],
   "source": [
    "vote_all_kinds_return_correct_comm_levc.to_csv('result/2022/portfolioY/ret_corr_threshold_v1-combine2condition(vote_down0).csv')"
   ]
  },
  {
   "cell_type": "code",
   "execution_count": null,
   "metadata": {},
   "outputs": [],
   "source": [
    "# 'result/2022/202205v0_till202208/pp10/vote-pp10-Top10_byAccuracy-2022-Aug-24\\\\3voteContNdays_202205v0_till202208_Top10_byAccuracy.csv'\n",
    "# vote_all_kinds_return_correct_comm_csv = 'result/2022/202205v0_till202208/pp10/met_vote_ml_mpt151b_all_kinds_ext_{}.csv'.format(client)\n",
    "vote_all_kinds_return_correct_comm_csv = 'result/2022/portfolioY/met_corr_threshold_v1-combine2condition(vote_down0).csv'"
   ]
  },
  {
   "cell_type": "code",
   "execution_count": null,
   "metadata": {},
   "outputs": [],
   "source": [
    "try:\n",
    "    met = pd.read_csv(vote_all_kinds_return_correct_comm_csv, index_col=0)\n",
    "except:\n",
    "    met = empy_metric(vote_all_kinds_return_correct_comm_levc)\n",
    "\n",
    "    met['up_ratio'] = vote_all_kinds.applymap(lambda x: 0 if x<0.99 else 1).mean()\n",
    "    met['buy_ratio'] = vote_all_kinds.mean()\n",
    "    met['flip_ratio'] = flip.mean()\n",
    "    \n",
    "    \"\"\"\n",
    "    met['score'] = met.annual_return * met.sharpe_ratio\n",
    "    score_excess1 = met.annual_return.apply(lambda x: max(0, x/met.loc['no_3vote','annual_return'] - 1))\n",
    "    score_excess2 = met.sharpe_ratio.apply(lambda x: max(0, x/met.loc['no_3vote','sharpe_ratio'] - 1))\n",
    "    score_excess3 = met['return/avgdd'].apply(lambda x: max(0, x/met.loc['no_3vote','return/avgdd'] - 1))\n",
    "    met['score_excess'] = score_excess1*score_excess2*score_excess3\n",
    "    met['score_excess_alt'] = score_excess2*score_excess3\n",
    "    \"\"\"\n",
    "    \n",
    "    \n",
    "    # met['score_123'] = met.annual_return * met.sharpe_ratio * met['return/avgdd']\n",
    "    # met['score_12'] = met.annual_return * met.sharpe_ratio\n",
    "    # met['score_23'] = met.sharpe_ratio * met['return/avgdd']\n",
    "\n",
    "\n",
    "    # score_excess1 = met.annual_return.apply(lambda x: max(0, x/met.loc['no_3vote','annual_return'] - 1))\n",
    "    # score_excess2 = met.sharpe_ratio.apply(lambda x: max(0, x/met.loc['no_3vote','sharpe_ratio'] - 1))\n",
    "    # score_excess3 = met['return/avgdd'].apply(lambda x: max(0, x/met.loc['no_3vote','return/avgdd'] - 1))\n",
    "\n",
    "    # met['score_excess_123'] = score_excess1*score_excess2*score_excess3\n",
    "    # met['score_excess_12'] = score_excess1*score_excess2\n",
    "    # met['score_excess_23'] = score_excess2*score_excess3\n",
    "\n",
    "    \n",
    "    \n",
    "    \n",
    "    met.to_csv(vote_all_kinds_return_correct_comm_csv)\n",
    "\n",
    "met"
   ]
  },
  {
   "cell_type": "code",
   "execution_count": null,
   "metadata": {},
   "outputs": [],
   "source": [
    "met = pd.read_csv(vote_all_kinds_return_correct_comm_csv, index_col=0)"
   ]
  },
  {
   "cell_type": "code",
   "execution_count": null,
   "metadata": {},
   "outputs": [],
   "source": [
    "show_metrics = [\n",
    "    'total_return', 'annual_return', 'sharpe_ratio', 'annual_volatility', \n",
    "    'max_drawdown', 'avg_drawdown', 'return/maxdd', 'return/avgdd', \n",
    "    'up_ratio', 'buy_ratio', 'flip_ratio'\n",
    "]\n",
    "\n",
    "better = met.sort_values('sharpe_ratio', ascending=False)[:'no_3vote'][show_metrics]\n",
    "better"
   ]
  },
  {
   "cell_type": "code",
   "execution_count": null,
   "metadata": {},
   "outputs": [],
   "source": [
    "better[better['sharpe_ratio']>=0.975895]"
   ]
  },
  {
   "cell_type": "code",
   "execution_count": null,
   "metadata": {},
   "outputs": [],
   "source": [
    "ll = ['no_3vote'] + list(better.index[:10])\n",
    "show_cum_ret(vote_all_kinds_return_correct_comm_levc[ll])\n",
    "display_df(better.loc[ll, :].sort_values('sharpe_ratio', ascending=False), export_img=True)"
   ]
  },
  {
   "cell_type": "code",
   "execution_count": null,
   "metadata": {},
   "outputs": [],
   "source": [
    "ll = list(better.index)\n",
    "\n",
    "count_ll = []\n",
    "for yy in range(2008, 2023):\n",
    "#     show_cum_ret(vote_all_kinds_return_correct_comm_levc[ll][str(yy)])\n",
    "    met = empy_metric(vote_all_kinds_return_correct_comm_levc[ll][str(yy)])\n",
    "\n",
    "    met['up_ratio'] = vote_all_kinds[ll][str(yy)].applymap(lambda x: 0 if x<0.99 else 1).mean()\n",
    "    met['buy_ratio'] = vote_all_kinds[ll][str(yy)].mean()\n",
    "    met['flip_ratio'] = flip[ll][str(yy)].mean()\n",
    "#     display_df(met.sort_values('sharpe_ratio', ascending=False), export_img=True)\n",
    "    \n",
    "    base_sharpe = met.loc['no_3vote', 'sharpe_ratio']\n",
    "    met = met[met['sharpe_ratio']>=base_sharpe]\n",
    "    ll = list(met.index)\n",
    "    count_ll += list(met.index)\n",
    "#     break"
   ]
  },
  {
   "cell_type": "code",
   "execution_count": null,
   "metadata": {},
   "outputs": [],
   "source": [
    "count_ratio = pd.Series(count_ll).value_counts()/len(range(2008, 2023))\n",
    "count_ratio.plot()"
   ]
  },
  {
   "cell_type": "code",
   "execution_count": null,
   "metadata": {},
   "outputs": [],
   "source": [
    "display(count_ratio[count_ratio == 1])\n",
    "ll = count_ratio[count_ratio == 1].index\n",
    "show_cum_ret(vote_all_kinds_return_correct_comm_levc[ll])\n",
    "display_df(better.loc[ll, :].sort_values('sharpe_ratio', ascending=False), export_img=True)"
   ]
  },
  {
   "cell_type": "code",
   "execution_count": null,
   "metadata": {},
   "outputs": [],
   "source": [
    "display(count_ratio[(count_ratio>=0.5)&(count_ratio!=1)])\n",
    "ll = list(count_ratio[(count_ratio>=0.5)&(count_ratio!=1)].index) + ['no_3vote']\n",
    "show_cum_ret(vote_all_kinds_return_correct_comm_levc[ll])\n",
    "display_df(better.loc[ll, :].sort_values('sharpe_ratio', ascending=False), export_img=True)"
   ]
  },
  {
   "cell_type": "code",
   "execution_count": null,
   "metadata": {},
   "outputs": [],
   "source": []
  }
 ],
 "metadata": {
  "kernelspec": {
   "display_name": "Python 3.10.4 64-bit",
   "language": "python",
   "name": "python3"
  },
  "language_info": {
   "codemirror_mode": {
    "name": "ipython",
    "version": 3
   },
   "file_extension": ".py",
   "mimetype": "text/x-python",
   "name": "python",
   "nbconvert_exporter": "python",
   "pygments_lexer": "ipython3",
   "version": "3.10.4"
  },
  "orig_nbformat": 4,
  "vscode": {
   "interpreter": {
    "hash": "f0d3774501257ed58ad0099ca2ed7be5b4ec94418b37cbebbf24e038263f9ed9"
   }
  }
 },
 "nbformat": 4,
 "nbformat_minor": 2
}
