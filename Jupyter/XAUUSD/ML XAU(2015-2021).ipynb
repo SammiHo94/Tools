{
 "cells": [
  {
   "cell_type": "code",
   "execution_count": 2,
   "id": "c42713bd",
   "metadata": {},
   "outputs": [],
   "source": [
    "import os\n",
    "import datetime\n",
    "import pandas as pd\n",
    "import empyrical as empy\n",
    "from sklearn.metrics import accuracy_score, precision_score"
   ]
  },
  {
   "cell_type": "code",
   "execution_count": 3,
   "id": "a27d76bb",
   "metadata": {},
   "outputs": [],
   "source": [
    "# include the date\n",
    "# start_date = datetime.date(2008, 1, 1)\n",
    "start_date = datetime.date(2008, 1, 1)\n",
    "end_date = datetime.date(2021, 12, 14)"
   ]
  },
  {
   "cell_type": "code",
   "execution_count": 4,
   "id": "ad5da03f",
   "metadata": {},
   "outputs": [],
   "source": [
    "def parse_date(df, start_date, end_date):\n",
    "    if start_date is not None:\n",
    "        df = df[df.index >= start_date]\n",
    "    if end_date is not None:\n",
    "        df = df[df.index <= end_date]\n",
    "    return df"
   ]
  },
  {
   "cell_type": "code",
   "execution_count": 7,
   "id": "da03e9ce",
   "metadata": {},
   "outputs": [],
   "source": [
    "def calculate_metrics(preds, y, start_date, end_date):\n",
    "    preds = parse_date(preds, start_date, end_date)\n",
    "    print(\"preds: {} to {}\".format(preds.index[0], preds.index[-1]))\n",
    "    sub_acc = pd.DataFrame(index=preds.columns)\n",
    "    for case in preds.columns:\n",
    "        sub_preds = preds[case]\n",
    "        tmp = pd.concat([sub_preds, y], axis=1).dropna()\n",
    "        sub_acc.loc[case, 'accuracy'] = accuracy_score(tmp.iloc[:, 1], tmp.iloc[:, 0])\n",
    "        sub_acc.loc[case, 'precision'] = precision_score(tmp.iloc[:, 1], tmp.iloc[:, 0])\n",
    "    return sub_acc\n",
    "\n",
    "def get_label(dfclose, pp=21):\n",
    "    dfclose.index = pd.to_datetime(dfclose.index, format='%Y-%m-%d').date\n",
    "    y_pctch = -dfclose.pct_change(-pp).dropna(how='all')\n",
    "    y_label = (y_pctch > 0).astype(int)\n",
    "    return y_label"
   ]
  },
  {
   "cell_type": "code",
   "execution_count": 10,
   "id": "ee256956",
   "metadata": {},
   "outputs": [],
   "source": [
    "price = pd.read_csv('XAU_USD.csv', index_col=0)['adj_close']\n",
    "ret = price.pct_change(1).dropna()"
   ]
  },
  {
   "cell_type": "code",
   "execution_count": null,
   "id": "11eb4777",
   "metadata": {},
   "outputs": [],
   "source": []
  },
  {
   "cell_type": "markdown",
   "id": "7fb9c859",
   "metadata": {},
   "source": [
    "## xgb EMA"
   ]
  },
  {
   "cell_type": "code",
   "execution_count": 47,
   "id": "e92f3f17",
   "metadata": {},
   "outputs": [],
   "source": [
    "def get_xgbEMA_result(case):\n",
    "    preds = pd.read_csv(\"20220216-result/y_dualmom_{}.csv\".format(case), index_col=0)['y_preds']\n",
    "    preds.index = pd.to_datetime(preds.index, format=\"%Y-%m-%d\").date\n",
    "    preds.name = case\n",
    "    return preds"
   ]
  },
  {
   "cell_type": "code",
   "execution_count": 48,
   "id": "5a353638",
   "metadata": {},
   "outputs": [
    {
     "name": "stdout",
     "output_type": "stream",
     "text": [
      "preds: 2015-06-01 to 2021-12-14\n"
     ]
    }
   ],
   "source": [
    "xgbEMA_preds = pd.read_csv(\"20220216-result/preds_summary.csv\", index_col=0)\n",
    "xgbEMA_preds.index = pd.to_datetime(xgbEMA_preds.index, format=\"%Y-%m-%d\").date\n",
    "xgbEMA_acc = calculate_metrics(xgbEMA_preds, y, start_date, end_date)"
   ]
  },
  {
   "cell_type": "code",
   "execution_count": 49,
   "id": "bc67150f",
   "metadata": {},
   "outputs": [
    {
     "data": {
      "text/html": [
       "<div>\n",
       "<style scoped>\n",
       "    .dataframe tbody tr th:only-of-type {\n",
       "        vertical-align: middle;\n",
       "    }\n",
       "\n",
       "    .dataframe tbody tr th {\n",
       "        vertical-align: top;\n",
       "    }\n",
       "\n",
       "    .dataframe thead th {\n",
       "        text-align: right;\n",
       "    }\n",
       "</style>\n",
       "<table border=\"1\" class=\"dataframe\">\n",
       "  <thead>\n",
       "    <tr style=\"text-align: right;\">\n",
       "      <th></th>\n",
       "      <th>accuracy</th>\n",
       "      <th>precision</th>\n",
       "    </tr>\n",
       "  </thead>\n",
       "  <tbody>\n",
       "    <tr>\n",
       "      <th>EMA3&amp;EMA13</th>\n",
       "      <td>0.555751</td>\n",
       "      <td>0.675556</td>\n",
       "    </tr>\n",
       "    <tr>\n",
       "      <th>EMA1&amp;EMA21</th>\n",
       "      <td>0.540493</td>\n",
       "      <td>0.622677</td>\n",
       "    </tr>\n",
       "    <tr>\n",
       "      <th>EMA1&amp;EMA3</th>\n",
       "      <td>0.546948</td>\n",
       "      <td>0.591083</td>\n",
       "    </tr>\n",
       "    <tr>\n",
       "      <th>EMA144&amp;EMA610</th>\n",
       "      <td>0.574531</td>\n",
       "      <td>0.607223</td>\n",
       "    </tr>\n",
       "    <tr>\n",
       "      <th>EMA21&amp;EMA233</th>\n",
       "      <td>0.546948</td>\n",
       "      <td>0.632163</td>\n",
       "    </tr>\n",
       "    <tr>\n",
       "      <th>EMA89&amp;EMA987</th>\n",
       "      <td>0.552817</td>\n",
       "      <td>0.582524</td>\n",
       "    </tr>\n",
       "    <tr>\n",
       "      <th>EMA34&amp;EMA233</th>\n",
       "      <td>0.559272</td>\n",
       "      <td>0.619186</td>\n",
       "    </tr>\n",
       "    <tr>\n",
       "      <th>EMA1&amp;EMA13</th>\n",
       "      <td>0.541667</td>\n",
       "      <td>0.635628</td>\n",
       "    </tr>\n",
       "    <tr>\n",
       "      <th>EMA3&amp;EMA5</th>\n",
       "      <td>0.578052</td>\n",
       "      <td>0.627604</td>\n",
       "    </tr>\n",
       "    <tr>\n",
       "      <th>EMA21&amp;EMA610</th>\n",
       "      <td>0.575704</td>\n",
       "      <td>0.615385</td>\n",
       "    </tr>\n",
       "    <tr>\n",
       "      <th>EMA8&amp;EMA34</th>\n",
       "      <td>0.572770</td>\n",
       "      <td>0.636896</td>\n",
       "    </tr>\n",
       "    <tr>\n",
       "      <th>EMA13&amp;EMA233</th>\n",
       "      <td>0.533451</td>\n",
       "      <td>0.619048</td>\n",
       "    </tr>\n",
       "    <tr>\n",
       "      <th>EMA1&amp;EMA55</th>\n",
       "      <td>0.547535</td>\n",
       "      <td>0.601124</td>\n",
       "    </tr>\n",
       "    <tr>\n",
       "      <th>EMA55&amp;EMA610</th>\n",
       "      <td>0.546948</td>\n",
       "      <td>0.588820</td>\n",
       "    </tr>\n",
       "    <tr>\n",
       "      <th>EMA2&amp;EMA377</th>\n",
       "      <td>0.527582</td>\n",
       "      <td>0.626728</td>\n",
       "    </tr>\n",
       "  </tbody>\n",
       "</table>\n",
       "</div>"
      ],
      "text/plain": [
       "               accuracy  precision\n",
       "EMA3&EMA13     0.555751   0.675556\n",
       "EMA1&EMA21     0.540493   0.622677\n",
       "EMA1&EMA3      0.546948   0.591083\n",
       "EMA144&EMA610  0.574531   0.607223\n",
       "EMA21&EMA233   0.546948   0.632163\n",
       "EMA89&EMA987   0.552817   0.582524\n",
       "EMA34&EMA233   0.559272   0.619186\n",
       "EMA1&EMA13     0.541667   0.635628\n",
       "EMA3&EMA5      0.578052   0.627604\n",
       "EMA21&EMA610   0.575704   0.615385\n",
       "EMA8&EMA34     0.572770   0.636896\n",
       "EMA13&EMA233   0.533451   0.619048\n",
       "EMA1&EMA55     0.547535   0.601124\n",
       "EMA55&EMA610   0.546948   0.588820\n",
       "EMA2&EMA377    0.527582   0.626728"
      ]
     },
     "execution_count": 49,
     "metadata": {},
     "output_type": "execute_result"
    }
   ],
   "source": [
    "xgbEMA_acc_top10 = xgbEMA_acc.sort_values('accuracy', ascending=False)[:10]\n",
    "xgbEMA_precision_top10 = xgbEMA_acc.sort_values('precision', ascending=False)[:10]\n",
    "top10_case = list(set(list(xgbEMA_acc_top10.index) + list(xgbEMA_precision_top10.index)))\n",
    "xgbEMA_top10 = xgbEMA_acc.loc[top10_case, :]\n",
    "xgbEMA_top10"
   ]
  },
  {
   "cell_type": "code",
   "execution_count": 50,
   "id": "e5aee409",
   "metadata": {},
   "outputs": [
    {
     "data": {
      "text/plain": [
       "<matplotlib.axes._subplots.AxesSubplot at 0x1e88ffa4978>"
      ]
     },
     "execution_count": 50,
     "metadata": {},
     "output_type": "execute_result"
    },
    {
     "data": {
      "image/png": "[encoded data removed]",
      "text/plain": [
       "<Figure size 1152x720 with 1 Axes>"
      ]
     },
     "metadata": {
      "needs_background": "light"
     },
     "output_type": "display_data"
    }
   ],
   "source": [
    "xgbEMA_top10.plot(kind='bar', title='Top 10 cases', figsize=(16, 10))"
   ]
  },
  {
   "cell_type": "code",
   "execution_count": 51,
   "id": "8e8bb2a9",
   "metadata": {},
   "outputs": [],
   "source": [
    "xgbEMApair_cases = ['allEMA&21D', 'allEMA_cross&21D', 'allEMA_crossONLY&21D']\n",
    "xgbEMApair_preds = pd.DataFrame()\n",
    "for case in xgbEMApair_cases:\n",
    "    preds = get_xgbEMA_result(case)\n",
    "    xgbEMApair_preds = pd.concat([xgbEMApair_preds, preds], axis=1)\n",
    "# xgbEMApair_preds"
   ]
  },
  {
   "cell_type": "code",
   "execution_count": 52,
   "id": "b5b1b239",
   "metadata": {},
   "outputs": [
    {
     "name": "stdout",
     "output_type": "stream",
     "text": [
      "preds: 2015-06-01 to 2021-12-14\n"
     ]
    },
    {
     "data": {
      "text/html": [
       "<div>\n",
       "<style scoped>\n",
       "    .dataframe tbody tr th:only-of-type {\n",
       "        vertical-align: middle;\n",
       "    }\n",
       "\n",
       "    .dataframe tbody tr th {\n",
       "        vertical-align: top;\n",
       "    }\n",
       "\n",
       "    .dataframe thead th {\n",
       "        text-align: right;\n",
       "    }\n",
       "</style>\n",
       "<table border=\"1\" class=\"dataframe\">\n",
       "  <thead>\n",
       "    <tr style=\"text-align: right;\">\n",
       "      <th></th>\n",
       "      <th>accuracy</th>\n",
       "      <th>precision</th>\n",
       "    </tr>\n",
       "  </thead>\n",
       "  <tbody>\n",
       "    <tr>\n",
       "      <th>allEMA&amp;21D</th>\n",
       "      <td>0.518779</td>\n",
       "      <td>0.565698</td>\n",
       "    </tr>\n",
       "    <tr>\n",
       "      <th>allEMA_cross&amp;21D</th>\n",
       "      <td>0.504695</td>\n",
       "      <td>0.543452</td>\n",
       "    </tr>\n",
       "    <tr>\n",
       "      <th>allEMA_crossONLY&amp;21D</th>\n",
       "      <td>0.447183</td>\n",
       "      <td>0.482260</td>\n",
       "    </tr>\n",
       "  </tbody>\n",
       "</table>\n",
       "</div>"
      ],
      "text/plain": [
       "                      accuracy  precision\n",
       "allEMA&21D            0.518779   0.565698\n",
       "allEMA_cross&21D      0.504695   0.543452\n",
       "allEMA_crossONLY&21D  0.447183   0.482260"
      ]
     },
     "execution_count": 52,
     "metadata": {},
     "output_type": "execute_result"
    }
   ],
   "source": [
    "xgbEMApair_acc = calculate_metrics(xgbEMApair_preds, y, start_date, end_date)\n",
    "xgbEMApair_acc"
   ]
  },
  {
   "cell_type": "code",
   "execution_count": 61,
   "id": "986fc3c6",
   "metadata": {},
   "outputs": [
    {
     "data": {
      "text/plain": [
       "<matplotlib.axes._subplots.AxesSubplot at 0x1e88f55a828>"
      ]
     },
     "execution_count": 61,
     "metadata": {},
     "output_type": "execute_result"
    },
    {
     "data": {
      "image/png": "[encoded data removed]",
      "text/plain": [
       "<Figure size 1152x720 with 1 Axes>"
      ]
     },
     "metadata": {
      "needs_background": "light"
     },
     "output_type": "display_data"
    }
   ],
   "source": [
    "xgbEMApair_acc.plot(kind='bar', title='all EMA features', figsize=(16, 10))"
   ]
  },
  {
   "cell_type": "markdown",
   "id": "ef1fa3b2",
   "metadata": {},
   "source": [
    "## ML as pipeline"
   ]
  },
  {
   "cell_type": "markdown",
   "id": "cf389c71",
   "metadata": {},
   "source": [
    "### individual models"
   ]
  },
  {
   "cell_type": "code",
   "execution_count": 54,
   "id": "50a1573d",
   "metadata": {},
   "outputs": [],
   "source": [
    "def get_preds(file):\n",
    "    df = pd.read_csv(file, index_col=0, header=1)\n",
    "    df.index = pd.to_datetime(df.index).date\n",
    "    return df"
   ]
  },
  {
   "cell_type": "code",
   "execution_count": 55,
   "id": "15fb44ce",
   "metadata": {},
   "outputs": [],
   "source": [
    "preds_folder = 'ML-result'\n",
    "file = os.path.join(preds_folder, 'Top5NNLow1', 'XAUUSD_all_preds.csv')\n",
    "model_preds = get_preds(file)\n",
    "# model_preds"
   ]
  },
  {
   "cell_type": "code",
   "execution_count": 56,
   "id": "643ec444",
   "metadata": {},
   "outputs": [
    {
     "name": "stdout",
     "output_type": "stream",
     "text": [
      "preds: 2015-06-01 to 2021-12-14\n"
     ]
    },
    {
     "name": "stderr",
     "output_type": "stream",
     "text": [
      "c:\\users\\ho sumwai\\appdata\\local\\programs\\python\\python36-64\\lib\\site-packages\\sklearn\\metrics\\classification.py:1135: UndefinedMetricWarning: Precision is ill-defined and being set to 0.0 due to no predicted samples.\n",
      "  'precision', 'predicted', average, warn_for)\n"
     ]
    },
    {
     "data": {
      "text/html": [
       "<div>\n",
       "<style scoped>\n",
       "    .dataframe tbody tr th:only-of-type {\n",
       "        vertical-align: middle;\n",
       "    }\n",
       "\n",
       "    .dataframe tbody tr th {\n",
       "        vertical-align: top;\n",
       "    }\n",
       "\n",
       "    .dataframe thead th {\n",
       "        text-align: right;\n",
       "    }\n",
       "</style>\n",
       "<table border=\"1\" class=\"dataframe\">\n",
       "  <thead>\n",
       "    <tr style=\"text-align: right;\">\n",
       "      <th></th>\n",
       "      <th>accuracy</th>\n",
       "      <th>precision</th>\n",
       "    </tr>\n",
       "  </thead>\n",
       "  <tbody>\n",
       "    <tr>\n",
       "      <th>sk_lgb_6Y</th>\n",
       "      <td>0.520315</td>\n",
       "      <td>0.528409</td>\n",
       "    </tr>\n",
       "    <tr>\n",
       "      <th>sk_rfc_6Y</th>\n",
       "      <td>0.524560</td>\n",
       "      <td>0.531845</td>\n",
       "    </tr>\n",
       "    <tr>\n",
       "      <th>sk_lgr_6Y</th>\n",
       "      <td>0.526380</td>\n",
       "      <td>0.532808</td>\n",
       "    </tr>\n",
       "    <tr>\n",
       "      <th>sk_svc_6Y</th>\n",
       "      <td>0.485143</td>\n",
       "      <td>0.522663</td>\n",
       "    </tr>\n",
       "    <tr>\n",
       "      <th>sk_rgc_6Y</th>\n",
       "      <td>0.548817</td>\n",
       "      <td>0.580494</td>\n",
       "    </tr>\n",
       "    <tr>\n",
       "      <th>nn_base_6Y</th>\n",
       "      <td>0.491207</td>\n",
       "      <td>0.520548</td>\n",
       "    </tr>\n",
       "    <tr>\n",
       "      <th>nn_fuzz_6Y</th>\n",
       "      <td>0.499697</td>\n",
       "      <td>0.525688</td>\n",
       "    </tr>\n",
       "    <tr>\n",
       "      <th>nn_one_6Y</th>\n",
       "      <td>0.540934</td>\n",
       "      <td>0.566667</td>\n",
       "    </tr>\n",
       "    <tr>\n",
       "      <th>nn_two_6Y</th>\n",
       "      <td>0.465737</td>\n",
       "      <td>0.000000</td>\n",
       "    </tr>\n",
       "    <tr>\n",
       "      <th>nn_three_6Y</th>\n",
       "      <td>0.497271</td>\n",
       "      <td>0.524119</td>\n",
       "    </tr>\n",
       "    <tr>\n",
       "      <th>nn_new_one_6Y</th>\n",
       "      <td>0.491207</td>\n",
       "      <td>0.519444</td>\n",
       "    </tr>\n",
       "    <tr>\n",
       "      <th>nn_new_two_6Y</th>\n",
       "      <td>0.505155</td>\n",
       "      <td>0.530065</td>\n",
       "    </tr>\n",
       "    <tr>\n",
       "      <th>nn_new_three_6Y</th>\n",
       "      <td>0.497878</td>\n",
       "      <td>0.526421</td>\n",
       "    </tr>\n",
       "    <tr>\n",
       "      <th>nlp_everything_6Y</th>\n",
       "      <td>0.468163</td>\n",
       "      <td>0.502364</td>\n",
       "    </tr>\n",
       "    <tr>\n",
       "      <th>nlp_Full_content_6Y</th>\n",
       "      <td>0.494239</td>\n",
       "      <td>0.536098</td>\n",
       "    </tr>\n",
       "    <tr>\n",
       "      <th>nlp_Title_6Y</th>\n",
       "      <td>0.469375</td>\n",
       "      <td>0.514019</td>\n",
       "    </tr>\n",
       "    <tr>\n",
       "      <th>nlp_Snippet_6Y</th>\n",
       "      <td>0.445725</td>\n",
       "      <td>0.421053</td>\n",
       "    </tr>\n",
       "    <tr>\n",
       "      <th>nlp_combined_6Y</th>\n",
       "      <td>0.508793</td>\n",
       "      <td>0.551227</td>\n",
       "    </tr>\n",
       "  </tbody>\n",
       "</table>\n",
       "</div>"
      ],
      "text/plain": [
       "                     accuracy  precision\n",
       "sk_lgb_6Y            0.520315   0.528409\n",
       "sk_rfc_6Y            0.524560   0.531845\n",
       "sk_lgr_6Y            0.526380   0.532808\n",
       "sk_svc_6Y            0.485143   0.522663\n",
       "sk_rgc_6Y            0.548817   0.580494\n",
       "nn_base_6Y           0.491207   0.520548\n",
       "nn_fuzz_6Y           0.499697   0.525688\n",
       "nn_one_6Y            0.540934   0.566667\n",
       "nn_two_6Y            0.465737   0.000000\n",
       "nn_three_6Y          0.497271   0.524119\n",
       "nn_new_one_6Y        0.491207   0.519444\n",
       "nn_new_two_6Y        0.505155   0.530065\n",
       "nn_new_three_6Y      0.497878   0.526421\n",
       "nlp_everything_6Y    0.468163   0.502364\n",
       "nlp_Full_content_6Y  0.494239   0.536098\n",
       "nlp_Title_6Y         0.469375   0.514019\n",
       "nlp_Snippet_6Y       0.445725   0.421053\n",
       "nlp_combined_6Y      0.508793   0.551227"
      ]
     },
     "execution_count": 56,
     "metadata": {},
     "output_type": "execute_result"
    }
   ],
   "source": [
    "model_acc = calculate_metrics(model_preds, y, start_date, end_date)\n",
    "model_acc"
   ]
  },
  {
   "cell_type": "code",
   "execution_count": 57,
   "id": "c793f01d",
   "metadata": {},
   "outputs": [
    {
     "data": {
      "text/plain": [
       "<matplotlib.axes._subplots.AxesSubplot at 0x1e88f479e80>"
      ]
     },
     "execution_count": 57,
     "metadata": {},
     "output_type": "execute_result"
    },
    {
     "data": {
      "image/png": "[encoded data removed]",
      "text/plain": [
       "<Figure size 1152x720 with 1 Axes>"
      ]
     },
     "metadata": {
      "needs_background": "light"
     },
     "output_type": "display_data"
    }
   ],
   "source": [
    "model_acc.plot(kind='bar', title='individaul model', figsize=(16, 10))"
   ]
  },
  {
   "cell_type": "markdown",
   "id": "6ce3d2c3",
   "metadata": {},
   "source": [
    "### model ensemble"
   ]
  },
  {
   "cell_type": "code",
   "execution_count": 58,
   "id": "38bea8ca",
   "metadata": {},
   "outputs": [],
   "source": [
    "folder = 'ML-result'\n",
    "ensemble_preds = pd.DataFrame()\n",
    "for fn in os.listdir(folder):\n",
    "    fpath = os.path.join(folder, fn, 'XAUUSD_preds.csv')\n",
    "    ser = get_preds(fpath)['Simple Voting']\n",
    "    ser.name = fn\n",
    "    ensemble_preds = pd.concat([ensemble_preds, ser], axis=1)\n",
    "# ensemble_preds"
   ]
  },
  {
   "cell_type": "code",
   "execution_count": 59,
   "id": "47307b1f",
   "metadata": {},
   "outputs": [
    {
     "name": "stdout",
     "output_type": "stream",
     "text": [
      "preds: 2015-06-01 to 2021-12-14\n"
     ]
    },
    {
     "data": {
      "text/html": [
       "<div>\n",
       "<style scoped>\n",
       "    .dataframe tbody tr th:only-of-type {\n",
       "        vertical-align: middle;\n",
       "    }\n",
       "\n",
       "    .dataframe tbody tr th {\n",
       "        vertical-align: top;\n",
       "    }\n",
       "\n",
       "    .dataframe thead th {\n",
       "        text-align: right;\n",
       "    }\n",
       "</style>\n",
       "<table border=\"1\" class=\"dataframe\">\n",
       "  <thead>\n",
       "    <tr style=\"text-align: right;\">\n",
       "      <th></th>\n",
       "      <th>accuracy</th>\n",
       "      <th>precision</th>\n",
       "    </tr>\n",
       "  </thead>\n",
       "  <tbody>\n",
       "    <tr>\n",
       "      <th>Top3AllLow2</th>\n",
       "      <td>0.480898</td>\n",
       "      <td>0.521589</td>\n",
       "    </tr>\n",
       "    <tr>\n",
       "      <th>Top3NNLow2</th>\n",
       "      <td>0.473014</td>\n",
       "      <td>0.505650</td>\n",
       "    </tr>\n",
       "    <tr>\n",
       "      <th>Top5</th>\n",
       "      <td>0.450576</td>\n",
       "      <td>0.484885</td>\n",
       "    </tr>\n",
       "    <tr>\n",
       "      <th>Top5AllLow1</th>\n",
       "      <td>0.463918</td>\n",
       "      <td>0.498429</td>\n",
       "    </tr>\n",
       "    <tr>\n",
       "      <th>Top5NNLow1</th>\n",
       "      <td>0.486355</td>\n",
       "      <td>0.516038</td>\n",
       "    </tr>\n",
       "    <tr>\n",
       "      <th>VoteAll_nlp</th>\n",
       "      <td>0.480291</td>\n",
       "      <td>0.531088</td>\n",
       "    </tr>\n",
       "    <tr>\n",
       "      <th>VoteAll_nn</th>\n",
       "      <td>0.517890</td>\n",
       "      <td>0.540338</td>\n",
       "    </tr>\n",
       "    <tr>\n",
       "      <th>VoteAll_sk</th>\n",
       "      <td>0.516677</td>\n",
       "      <td>0.528378</td>\n",
       "    </tr>\n",
       "  </tbody>\n",
       "</table>\n",
       "</div>"
      ],
      "text/plain": [
       "             accuracy  precision\n",
       "Top3AllLow2  0.480898   0.521589\n",
       "Top3NNLow2   0.473014   0.505650\n",
       "Top5         0.450576   0.484885\n",
       "Top5AllLow1  0.463918   0.498429\n",
       "Top5NNLow1   0.486355   0.516038\n",
       "VoteAll_nlp  0.480291   0.531088\n",
       "VoteAll_nn   0.517890   0.540338\n",
       "VoteAll_sk   0.516677   0.528378"
      ]
     },
     "execution_count": 59,
     "metadata": {},
     "output_type": "execute_result"
    }
   ],
   "source": [
    "ensemble_acc = calculate_metrics(ensemble_preds, y, start_date, end_date)\n",
    "ensemble_acc"
   ]
  },
  {
   "cell_type": "code",
   "execution_count": 60,
   "id": "8da9cc41",
   "metadata": {},
   "outputs": [
    {
     "data": {
      "text/plain": [
       "<matplotlib.axes._subplots.AxesSubplot at 0x1e88f4f54e0>"
      ]
     },
     "execution_count": 60,
     "metadata": {},
     "output_type": "execute_result"
    },
    {
     "data": {
      "image/png": "[encoded data removed]",
      "text/plain": [
       "<Figure size 1152x720 with 1 Axes>"
      ]
     },
     "metadata": {
      "needs_background": "light"
     },
     "output_type": "display_data"
    }
   ],
   "source": [
    "ensemble_acc.plot(kind='bar', title='ensemble', figsize=(16, 10))"
   ]
  },
  {
   "cell_type": "code",
   "execution_count": null,
   "id": "c0505102",
   "metadata": {},
   "outputs": [],
   "source": []
  }
 ],
 "metadata": {
  "kernelspec": {
   "display_name": "Python 3",
   "language": "python",
   "name": "python3"
  },
  "language_info": {
   "codemirror_mode": {
    "name": "ipython",
    "version": 3
   },
   "file_extension": ".py",
   "mimetype": "text/x-python",
   "name": "python",
   "nbconvert_exporter": "python",
   "pygments_lexer": "ipython3",
   "version": "3.6.2"
  }
 },
 "nbformat": 4,
 "nbformat_minor": 5
}
